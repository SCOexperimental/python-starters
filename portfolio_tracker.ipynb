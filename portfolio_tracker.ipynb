{
 "cells": [
  {
   "cell_type": "markdown",
   "id": "582900ca",
   "metadata": {},
   "source": [
    "#Simple Portfolio Tracker\n",
    "## Learn Python Basics with real Fintech Applications"
   ]
  },
  {
   "cell_type": "code",
   "execution_count": 7,
   "id": "0770c0d3",
   "metadata": {},
   "outputs": [
    {
     "name": "stdout",
     "output_type": "stream",
     "text": [
      "Your portfolio:\n",
      "- AAPL: 100 shares\n",
      "- GOOGL: 25 shares\n",
      "- MSFT: 50 shares\n",
      "\n",
      " Your portfolio summary:\n",
      "\n",
      "AAPL:\n",
      "  - Shares: 100\n",
      "  - Buy Price: $150.75\n",
      "  - Current Price: $182.52\n",
      "  - Total Invested: $15075.00\n",
      "  - Current Value: $18252.00\n",
      "\n",
      "GOOGL:\n",
      "  - Shares: 25\n",
      "  - Buy Price: $135.90\n",
      "  - Current Price: $175.34\n",
      "  - Total Invested: $3397.50\n",
      "  - Current Value: $4383.50\n",
      "\n",
      "MSFT:\n",
      "  - Shares: 50\n",
      "  - Buy Price: $325.40\n",
      "  - Current Price: $420.72\n",
      "  - Total Invested: $16270.00\n",
      "  - Current Value: $21036.00\n",
      "\n",
      "Overall Portfolio Performance:\n",
      " - Total Invested: $34742.50\n",
      " - Current Value: $43671.50\n",
      " - Total Gain/Loss: $8929.00 (25.70%)\n"
     ]
    }
   ],
   "source": [
    "# STEP 1: Set Up Your Portfolio\n",
    "portfolio = {\n",
    "    \"AAPL\": {\"shares\": 100, \"buy_price\": 150.75}, # Apple Inc.\n",
    "    \"GOOGL\": {\"shares\": 25, \"buy_price\": 135.90}, # Google\n",
    "    \"MSFT\": {\"shares\": 50, \"buy_price\": 325.40} # Microsoft\n",
    "}\n",
    "\n",
    "# STEP 2: Calculate Current Value of Each Stock\n",
    "current_prices = {\"AAPL\": 182.52, \"GOOGL\": 175.34,\"MSFT\": 420.72}\n",
    "\n",
    "print(\"Your portfolio:\")\n",
    "for stock in portfolio:\n",
    "    print(f\"- {stock}: {portfolio[stock]['shares']} shares\")\n",
    "\n",
    "print() # <-- This line is to add a blank line for better readability\n",
    "\n",
    "# STEP 3: Calculate and Display Portfolio Summary\n",
    "\n",
    "print(\" Your portfolio summary:\\n\")\n",
    "\n",
    "total_invested = 0\n",
    "total_current = 0\n",
    "\n",
    "for stock, info in portfolio.items():\n",
    "    shares = info[\"shares\"]\n",
    "    buy_price = info[\"buy_price\"]\n",
    "    current_price = current_prices[stock]\n",
    "    \n",
    "    invested = shares * buy_price\n",
    "    current_value = shares * current_price\n",
    "    gain = current_value - invested\n",
    "    gain_percentage =  (gain / invested) * 100 if invested > 0 else 0\n",
    "\n",
    "    total_invested += invested\n",
    "    total_current += current_value\n",
    "    \n",
    "    print(f\"{stock}:\")\n",
    "    print(f\"  - Shares: {shares}\")\n",
    "    print(f\"  - Buy Price: ${buy_price:.2f}\")\n",
    "    print(f\"  - Current Price: ${current_price:.2f}\")\n",
    "    print(f\"  - Total Invested: ${invested:.2f}\")\n",
    "    print(f\"  - Current Value: ${current_value:.2f}\\n\")\n",
    "          \n",
    "# STEP 4: Display Overall Portfolio Performance\n",
    "total_gain = total_current - total_invested\n",
    "total_gain_percent = (total_gain / total_invested) * 100 if total_invested > 0 else 0\n",
    "\n",
    "print(\"Overall Portfolio Performance:\")\n",
    "print(f\" - Total Invested: ${total_invested:.2f}\")\n",
    "print(f\" - Current Value: ${total_current:.2f}\")\n",
    "print(f\" - Total Gain/Loss: ${total_gain:.2f} ({total_gain_percent:.2f}%)\")"
   ]
  },
  {
   "cell_type": "code",
   "execution_count": null,
   "id": "27bd1f78",
   "metadata": {},
   "outputs": [],
   "source": []
  }
 ],
 "metadata": {
  "kernelspec": {
   "display_name": "Python 3",
   "language": "python",
   "name": "python3"
  },
  "language_info": {
   "codemirror_mode": {
    "name": "ipython",
    "version": 3
   },
   "file_extension": ".py",
   "mimetype": "text/x-python",
   "name": "python",
   "nbconvert_exporter": "python",
   "pygments_lexer": "ipython3",
   "version": "3.13.3"
  }
 },
 "nbformat": 4,
 "nbformat_minor": 5
}
